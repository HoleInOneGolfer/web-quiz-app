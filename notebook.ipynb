{
 "cells": [
  {
   "cell_type": "code",
   "execution_count": 1,
   "id": "1d72e4dd",
   "metadata": {},
   "outputs": [],
   "source": [
    "import pandas as pd\n",
    "import os"
   ]
  },
  {
   "cell_type": "code",
   "execution_count": 2,
   "id": "d842e7f1",
   "metadata": {},
   "outputs": [],
   "source": [
    "QUIZ_EXCEL_PATH = './quiz_server/data/quiz.xlsx'\n",
    "QUIZ_EXCEL_PATH = os.path.abspath(QUIZ_EXCEL_PATH)\n",
    "\n",
    "RESULTS_EXCEL_PATH = './quiz_server/data/results.xlsx'\n",
    "RESULTS_EXCEL_PATH = os.path.abspath(RESULTS_EXCEL_PATH)\n",
    "\n",
    "QUIZ_DATA = pd.read_excel(QUIZ_EXCEL_PATH)\n",
    "RESULTS_DATA = pd.read_excel(RESULTS_EXCEL_PATH)"
   ]
  },
  {
   "cell_type": "code",
   "execution_count": 6,
   "id": "6daa15dd",
   "metadata": {},
   "outputs": [
    {
     "name": "stdout",
     "output_type": "stream",
     "text": [
      "2\n",
      "Super 3D\n",
      "Chickens crossing the road\n",
      "That backfires! Secure control / monitor = safety\n"
     ]
    }
   ],
   "source": [
    "QUIZ_ANSWERS = QUIZ_DATA[['answer_1', 'answer_2', 'answer_3', 'answer_4']]\n",
    "\n",
    "QUIZ_ANSWERS_LIST = QUIZ_ANSWERS.values.flatten().tolist()\n",
    "QUIZ_ANSWERS_LIST = [str(answer) for answer in QUIZ_ANSWERS_LIST if pd.notna(answer)]\n",
    "QUIZ_ANSWERS_LIST.sort(key=lambda x: (len(x), x))\n",
    "QUIZ_ANSWERS_LIST = list(dict.fromkeys(QUIZ_ANSWERS_LIST))\n",
    "\n",
    "QUIZ_ANSWERS_LONGEST = max(QUIZ_ANSWERS_LIST, key=len)\n",
    "QUIZ_ANSWERS_SHORTEST = min(QUIZ_ANSWERS_LIST, key=len)\n",
    "\n",
    "QUIZ_ANSWERS_LIST_UPPER_HALF = QUIZ_ANSWERS_LIST[len(QUIZ_ANSWERS_LIST) // 2:]\n",
    "QUIZ_ANSWERS_LIST_LOWER_HALF = QUIZ_ANSWERS_LIST[:len(QUIZ_ANSWERS_LIST) // 2]\n",
    "\n",
    "QUIZ_ANSWERS_LIST_UPPER_HALF_MEDIAN = QUIZ_ANSWERS_LIST_UPPER_HALF[len(QUIZ_ANSWERS_LIST_UPPER_HALF) // 2]\n",
    "QUIZ_ANSWERS_LIST_LOWER_HALF_MEDIAN = QUIZ_ANSWERS_LIST_LOWER_HALF[len(QUIZ_ANSWERS_LIST_LOWER_HALF) // 2]\n",
    "\n",
    "print(f\"{QUIZ_ANSWERS_SHORTEST}\")\n",
    "print(f\"{QUIZ_ANSWERS_LIST_LOWER_HALF_MEDIAN}\")\n",
    "print(f\"{QUIZ_ANSWERS_LIST_UPPER_HALF_MEDIAN}\")\n",
    "print(f\"{QUIZ_ANSWERS_LONGEST}\")"
   ]
  },
  {
   "cell_type": "code",
   "execution_count": 7,
   "id": "2709a1a8",
   "metadata": {},
   "outputs": [
    {
     "name": "stdout",
     "output_type": "stream",
     "text": [
      "About 75% of the U.S.A's population depends on this sector for sewage treatment too!\n",
      "B\n"
     ]
    }
   ],
   "source": [
    "QUIZ_HINTS_LIST = QUIZ_DATA['hint']\n",
    "QUIZ_HINTS_LIST = QUIZ_HINTS_LIST.dropna().tolist()\n",
    "QUIZ_HINTS_LIST.sort(key=lambda x: (len(x), x))\n",
    "QUIZ_HINTS_LIST = list(dict.fromkeys(QUIZ_HINTS_LIST))\n",
    "\n",
    "QUIZ_HINTS_LONGEST = max(QUIZ_HINTS_LIST, key=len)\n",
    "QUIZ_HINTS_SHORTEST = min(QUIZ_HINTS_LIST, key=len)\n",
    "\n",
    "print(f\"{QUIZ_HINTS_LONGEST}\")\n",
    "print(f\"{QUIZ_HINTS_SHORTEST}\")"
   ]
  }
 ],
 "metadata": {
  "kernelspec": {
   "display_name": "Python 3",
   "language": "python",
   "name": "python3"
  },
  "language_info": {
   "codemirror_mode": {
    "name": "ipython",
    "version": 3
   },
   "file_extension": ".py",
   "mimetype": "text/x-python",
   "name": "python",
   "nbconvert_exporter": "python",
   "pygments_lexer": "ipython3",
   "version": "3.12.5"
  }
 },
 "nbformat": 4,
 "nbformat_minor": 5
}
